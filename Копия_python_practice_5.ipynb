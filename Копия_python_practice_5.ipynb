{
  "nbformat": 4,
  "nbformat_minor": 0,
  "metadata": {
    "colab": {
      "provenance": []
    },
    "kernelspec": {
      "name": "python3",
      "display_name": "Python 3"
    },
    "language_info": {
      "name": "python"
    }
  },
  "cells": [
    {
      "cell_type": "markdown",
      "source": [
        "# I. OOP"
      ],
      "metadata": {
        "id": "5qV_sehzFCTp"
      }
    },
    {
      "cell_type": "markdown",
      "source": [
        "1. (6б). Створіть клас Animal, додайте три атрибути, один з яких має значення за замовчуванням та два методи на свій розсуд."
      ],
      "metadata": {
        "id": "tx_U_hOALyfg"
      }
    },
    {
      "cell_type": "code",
      "source": [
        "class Animal():\n",
        "  \"\"\"\"\n",
        "  This class shows information like amount of animals, origin habitat,\n",
        "  current location of them that a zoo owns\n",
        "  \"\"\"\n",
        "  def __init__(self, name, location, habitat, amount=10):\n",
        "    self.amount = amount\n",
        "    self.location = location\n",
        "    self.habitat = habitat\n",
        "    self.name = name\n",
        "\n",
        "  def description(self):\n",
        "      print(f\"Amount of {self.name}: {self.amount}\")\n",
        "      print(f\"Area of habitat of {self.name}: {self.habitat}\")\n",
        "      print(f\"Current location of {self.name}: {self.location}\")\n",
        "\n",
        "\n",
        "\n"
      ],
      "metadata": {
        "id": "-Vf895KaL88N"
      },
      "execution_count": null,
      "outputs": []
    },
    {
      "cell_type": "markdown",
      "source": [
        "2. (2б). Створіть два обʼєкти цього класу, де один з обʼєктів створюється із дефолтним значенням атрибуту. На одному обʼєкті отримайте значення його атрибуту, а на іншому викличте один з його методів."
      ],
      "metadata": {
        "id": "X_UlOMB0L93w"
      }
    },
    {
      "cell_type": "code",
      "source": [
        "lions = Animal(\"lions\", \"Kyiv_zoo\", \"Africa\")\n",
        "pinguins = Animal(\"pinguins\", \"London zoo\", \"Antarctida\", 3)\n",
        "\n",
        "print(f\"Значення атребуту habiat: {lions.habitat}\")\n",
        "print('-'*20)\n",
        "pinguins.description()\n"
      ],
      "metadata": {
        "id": "7gBu0ESOMCpG",
        "colab": {
          "base_uri": "https://localhost:8080/"
        },
        "outputId": "c215fdf4-8126-4687-e079-2bbac5afa544"
      },
      "execution_count": null,
      "outputs": [
        {
          "output_type": "stream",
          "name": "stdout",
          "text": [
            "Значення атребуту habiat: Africa\n",
            "--------------------\n",
            "Amount of pinguins: 3\n",
            "Area of habitat of pinguins: Antarctida\n",
            "Current location of pinguins: London zoo\n"
          ]
        }
      ]
    },
    {
      "cell_type": "markdown",
      "source": [
        "3. (5б). Створіть клас, де атрибути мають різні рівні доступу. Спробуйте отримати їхні значення та опишіть результати."
      ],
      "metadata": {
        "id": "HoqSCZt1MHn5"
      }
    },
    {
      "cell_type": "code",
      "source": [
        "class Phone():\n",
        "\n",
        "  def __init__(self, manufacturer, model, color, memory_capacity=256):\n",
        "    self.manufacturer = manufacturer\n",
        "    self._model = model\n",
        "    self.color = color\n",
        "    self.__memory_capacity = memory_capacity\n",
        "\n",
        "  def description(self):\n",
        "   print(self.manufacturer)\n",
        "   print(self._model)\n",
        "   print(self.color)\n",
        "   print(self.__memory_capacity)\n",
        "\n",
        "iphoneX = Phone(\"Apple\", \"X\", \"Grey\")\n",
        "\n",
        "iphoneX._model\n",
        "iphoneX.__memory_capacity\n",
        "#показано що ззвоні не можливо звернутись до __memory_capacity\n",
        "#щоб вивести об'єм пам'яті за рівня private, потрібно написати наступну команду iphoneX._Phone__memory_capacity\n",
        "\n",
        "#1) один андерскор для артебуту, наприклад, _model це усна домовленість між розробниками. Розробник ставить один андерскор, щоб інший бачив,\n",
        "#що вводити ззвоні нові значення атербуту не можна — це зашкодить програмі. Це рівень protected\n",
        "#2) два андерскори (рівень private) для артебуту, наприклад __model. За рахунок цьго звернення або зміна артбуту ззвоні класу обмежується\n",
        "\n"
      ],
      "metadata": {
        "id": "r9b3vJxBMSPV",
        "colab": {
          "base_uri": "https://localhost:8080/",
          "height": 216
        },
        "outputId": "da33855c-509e-4f6f-e953-9bd22c38c712"
      },
      "execution_count": null,
      "outputs": [
        {
          "output_type": "error",
          "ename": "AttributeError",
          "evalue": "'Phone' object has no attribute '__memory_capacity'",
          "traceback": [
            "\u001b[0;31m---------------------------------------------------------------------------\u001b[0m",
            "\u001b[0;31mAttributeError\u001b[0m                            Traceback (most recent call last)",
            "\u001b[0;32m<ipython-input-12-19c566158f36>\u001b[0m in \u001b[0;36m<cell line: 18>\u001b[0;34m()\u001b[0m\n\u001b[1;32m     16\u001b[0m \u001b[0;34m\u001b[0m\u001b[0m\n\u001b[1;32m     17\u001b[0m \u001b[0miphoneX\u001b[0m\u001b[0;34m.\u001b[0m\u001b[0m_model\u001b[0m\u001b[0;34m\u001b[0m\u001b[0;34m\u001b[0m\u001b[0m\n\u001b[0;32m---> 18\u001b[0;31m \u001b[0miphoneX\u001b[0m\u001b[0;34m.\u001b[0m\u001b[0m__memory_capacity\u001b[0m\u001b[0;34m\u001b[0m\u001b[0;34m\u001b[0m\u001b[0m\n\u001b[0m\u001b[1;32m     19\u001b[0m \u001b[0;31m#показано що ззвоні не можливо звернутись до __memory_capacity\u001b[0m\u001b[0;34m\u001b[0m\u001b[0;34m\u001b[0m\u001b[0m\n\u001b[1;32m     20\u001b[0m \u001b[0;31m#щоб вивести об'м пам'яті за рівня private, потрібно написати наступну команду iphoneX._Phone__memory_capacity\u001b[0m\u001b[0;34m\u001b[0m\u001b[0;34m\u001b[0m\u001b[0m\n",
            "\u001b[0;31mAttributeError\u001b[0m: 'Phone' object has no attribute '__memory_capacity'"
          ]
        }
      ]
    },
    {
      "cell_type": "markdown",
      "source": [
        "4. (7б). Як ви розумієте термін self? Для чого використовується метод __init __?"
      ],
      "metadata": {
        "id": "5op2m2vgMSkZ"
      }
    },
    {
      "cell_type": "markdown",
      "source": [
        "Self\n",
        "- перший аргумент у функції ініціалізації __init__\n",
        "- змінна, яка зберігає назви нових об'єктів і допомагає записувати атребути відповідно до певного об'єкту класу\n",
        "\n",
        "__init__\n",
        "- це метод класу\n",
        "- він використовується для запсу об'єкту у клас зі значенням його атребутів. Тобто за допомогою нього клас (шаблон) набуває нових об'єктів з атребутами"
      ],
      "metadata": {
        "id": "DyiPqNRvMasx"
      }
    },
    {
      "cell_type": "markdown",
      "source": [
        "5. (9б). Створіть клас Фігура без атрибутів, з методом get_area для отримання площі фігури, що повертає 0 та __add __, який приймає self та other в якості аргументів, а повертає суму площин фігур self та other."
      ],
      "metadata": {
        "id": "-6X8EGfjMd2y"
      }
    },
    {
      "cell_type": "code",
      "source": [
        "class Figure():\n",
        "  def get_area(self):\n",
        "    return 0\n",
        "\n",
        "  def __add__(self, other):\n",
        "    return self.get_area() + other.get_area()"
      ],
      "metadata": {
        "id": "4rvO_wYUMaEr"
      },
      "execution_count": null,
      "outputs": []
    },
    {
      "cell_type": "markdown",
      "source": [
        "6. (11б). Створіть 2 дочірніх класи від Фігури: Трикутник та Коло, які мають атрибути, необхідні для розрахунку площин. Визначте метод get_area в кожному з них так, щоби вони розраховували площу в залежності від формули для кожного типу фігури. Створіть обʼєкт класу Трикутник та обʼєкт класу Коло. Виконайте операцію суми за допомогою оператора + між ними."
      ],
      "metadata": {
        "id": "SFcKnnv5Mo_z"
      }
    },
    {
      "cell_type": "code",
      "source": [
        "class Triengle(Figure):\n",
        "  \"\"\"\n",
        "  У цьому класі описано знаходження площі рівностороннього трикутнаика, у якого всі сторони рівні, а всі кути = 60 градусів,\n",
        "  за формулою S = (1/2)*a*h\n",
        "  та площі кола за формулою S = 𝜋*R**2, де 𝜋 = 3,14\n",
        "  \"\"\"\n",
        "\n",
        "  def __init__(self, a, h):\n",
        "    self.a = a\n",
        "    self.h = h\n",
        "\n",
        "  def get_area(self):\n",
        "    area = (1/2) * self.a * self.h\n",
        "    return area\n",
        "\n",
        "class Circle(Figure):\n",
        "  def __init__(self, R, pi=3.14):\n",
        "    self.R = R\n",
        "    self.pi = pi\n",
        "\n",
        "  def get_area(self):\n",
        "    area = self.pi * (self.R**2)\n",
        "    return area\n",
        "\n",
        "\n",
        "triengle = Triengle(3, 2)\n",
        "circle = Circle(8)\n",
        "\n",
        "common_area = triengle + circle\n",
        "\n",
        "print(f\"сума площин трикутника та кола = {common_area}\")\n",
        "\n",
        "\n",
        "\n",
        "\n",
        "\n"
      ],
      "metadata": {
        "id": "H3GVNr69Muf3",
        "colab": {
          "base_uri": "https://localhost:8080/"
        },
        "outputId": "6df7b663-ff2d-4ea6-e673-bececec00d3e"
      },
      "execution_count": null,
      "outputs": [
        {
          "output_type": "stream",
          "name": "stdout",
          "text": [
            "сума площин трикутника та кола = 203.96\n"
          ]
        }
      ]
    },
    {
      "cell_type": "markdown",
      "source": [
        "7. (3б). Продемонструйте різницю між isinstance та issubclass."
      ],
      "metadata": {
        "id": "HCvR206YMvLK"
      }
    },
    {
      "cell_type": "code",
      "source": [
        "\"\"\"\n",
        "isinstance() перевіряє чи є об'єк екземпляром певного класу або підклассом класу\n",
        "issubclass() визначає чи є вказаний клас підкласом іншого класу — чи цей дочірній певного батьківського класу?\n",
        "\"\"\"\n",
        "\n",
        "class Test():\n",
        "  pass\n",
        "\n",
        "class Result(Test):\n",
        "  pass\n",
        "\n",
        "#isincsttance()\n",
        "\n",
        "numbers = [1, 2, 3, 4, 5]\n",
        "\n",
        "test1 = Result()\n",
        "\n",
        "print(f\"чи є numbers екземпляром класу list? {isinstance(numbers, list)}\")\n",
        "print(f\"чи є об'єкт test1 елементом класу Result? {isinstance(test1, Result)}\")\n",
        "\n",
        "print(\"-\"*20)\n",
        "\n",
        "#issubclass\n",
        "\n",
        "print(f\"чи є клас Result дочірнім класу Test? {issubclass(Result, Test)}\")\n",
        "\n",
        "\n",
        "\n"
      ],
      "metadata": {
        "id": "L_V1bBvDM0GN",
        "colab": {
          "base_uri": "https://localhost:8080/"
        },
        "outputId": "b7bb6cb1-465c-4edf-cfe4-11978189ef60"
      },
      "execution_count": null,
      "outputs": [
        {
          "output_type": "stream",
          "name": "stdout",
          "text": [
            "чи є numbers екземпляром класу list? True\n",
            "чи є об'єкт test1 елементом класу Result? True\n",
            "--------------------\n",
            "чи є клас Result дочірнім класу Test? True\n"
          ]
        }
      ]
    },
    {
      "cell_type": "markdown",
      "source": [
        "8. (13б). Створіть клас BankAccount з приватними атрибутами balance та account_number. Реалізуйте методи поповнення та зняття коштів, забезпечивши належну інкапсуляцію. Підказка: використовуйте декоратори property та setter."
      ],
      "metadata": {
        "id": "jjsaBZ-iM0Qq"
      }
    },
    {
      "cell_type": "code",
      "source": [
        "class BankAccount():\n",
        "  def __init__(self, holder_name, account_number, balance):\n",
        "    self._holder_name = holder_name\n",
        "    self._account_number = account_number\n",
        "    self._balance = balance\n",
        "\n",
        "  @property\n",
        "  def holder_name(self):\n",
        "    return self._holder_name\n",
        "\n",
        "  @property\n",
        "  def account_number(self):\n",
        "    return self._account_number\n",
        "\n",
        "  @property\n",
        "  def balance(self):\n",
        "    return self._balance\n",
        "\n",
        "  @balance.setter\n",
        "  def balance(self, amount):\n",
        "    if amount > 0:\n",
        "      self._balance = amount\n",
        "\n",
        "  def withdraw(self, amount):\n",
        "    if self.balance - amount < 0:\n",
        "      print(f\"на вашому рахунку не достатньо коштів для зняття: {self.balance - amount}\")\n",
        "    else:\n",
        "      self._balance = self._balance - amount\n",
        "    return print(f\"ваш поточний баланс = {self.balance}\")\n",
        "\n",
        "\n",
        "  def deposit(self, amount):\n",
        "    if amount > 0:\n",
        "      self._balance = self._balance + amount\n",
        "    else:\n",
        "      print(\"сума поповнення має бути більшою за нуль\")\n",
        "\n",
        "\n",
        "customer1 = BankAccount(\"Volodymyr\", 2704, 0)\n",
        "customer1.deposit(1000)\n",
        "\n",
        "customer1.withdraw(500)\n",
        "customer1.holder_name\n",
        "\n",
        "\n"
      ],
      "metadata": {
        "id": "xCvZ7lh8M7YA",
        "colab": {
          "base_uri": "https://localhost:8080/",
          "height": 53
        },
        "outputId": "8298329a-e975-4d57-ad9a-9edc07175acc"
      },
      "execution_count": null,
      "outputs": [
        {
          "output_type": "stream",
          "name": "stdout",
          "text": [
            "ваш поточний баланс = 500\n"
          ]
        },
        {
          "output_type": "execute_result",
          "data": {
            "text/plain": [
              "'Volodymyr'"
            ],
            "application/vnd.google.colaboratory.intrinsic+json": {
              "type": "string"
            }
          },
          "metadata": {},
          "execution_count": 30
        }
      ]
    },
    {
      "cell_type": "markdown",
      "source": [
        "9. (11б). Створіть клас Library, який містить список об'єктів типу Book. Реалізуйте методи для додавання книги, видалення книги та відображення списку книг."
      ],
      "metadata": {
        "id": "tIzL2SJTM8ft"
      }
    },
    {
      "cell_type": "code",
      "source": [
        "class Book():\n",
        "  def __init__(self, book_name, author):\n",
        "    self.book_name = book_name\n",
        "    self.author = author\n",
        "\n",
        "class Library(Book):\n",
        "  def __init__(self):\n",
        "    self.books = []\n",
        "\n",
        "  def add_book(self, book):\n",
        "    self.books.append(book)\n",
        "\n",
        "  def remove_book(self, book_name):\n",
        "    for book in self.books:\n",
        "      self.books.remove(book)\n",
        "    return print(f\"книга {book_name} видалена з бібліотеки\")\n",
        "\n",
        "  def show_books(self):\n",
        "    for book in self.books:\n",
        "      print(f\"{book.book_name} - {book.author}\")\n",
        "    if not self.books:\n",
        "      print(\"у бібліотеці не має книг\")\n",
        "\n",
        "library = Library()\n",
        "\n",
        "book1 = Book(\"Моє життя та робота\", \"Генрі Форд\")\n",
        "library.add_book(book1)\n",
        "library.show_books()\n",
        "library.remove_book(\"Моє життя та робота\")\n",
        "library.show_books()\n",
        "\n",
        "\n"
      ],
      "metadata": {
        "id": "HWxfJKLtNAUZ",
        "colab": {
          "base_uri": "https://localhost:8080/"
        },
        "outputId": "c029f7ee-655c-4c46-e4f4-5efbefec2e5a"
      },
      "execution_count": 61,
      "outputs": [
        {
          "output_type": "stream",
          "name": "stdout",
          "text": [
            "Моє життя та робота - Генрі Форд\n",
            "книга Моє життя та робота видалена з бібліотеки\n",
            "у бібліотеці не має книг\n"
          ]
        }
      ]
    },
    {
      "cell_type": "markdown",
      "source": [
        "10. (13б). Створіть клас Person з атрибутами name та age. Створіть ще один клас Employee з такими атрибутами, як department та salary. Створіть клас Manager, який успадковує обидва класи Person та Employee. Продемонструйте використання множинної спадковості, створивши обʼєкт класу Manager та отримавши mro для цього класу."
      ],
      "metadata": {
        "id": "lmV8pAwwNIqu"
      }
    },
    {
      "cell_type": "code",
      "source": [
        "class Person():\n",
        "  def __init__(self, name, age):\n",
        "    self.name = name\n",
        "    self.age = age\n",
        "\n",
        "class Employee():\n",
        "  def __init__(self, department, salary):\n",
        "    self.department = department\n",
        "    self.salary = salary\n",
        "\n",
        "class Manager(Person, Employee):\n",
        "  def __init__(self, name, age, department, salary):\n",
        "    super().__init__(name, age)\n",
        "    super().__init__(department, salary)\n",
        "\n",
        "object1 = Manager(\"Valeriy\", 31, \"Soft engineering\", 6000)\n",
        "\n",
        "print(f\"Method Resolution Order для класу Manager:{Manager.mro()}\")\n",
        "\n",
        "\n",
        "\n"
      ],
      "metadata": {
        "id": "R49grKlWNPeN",
        "colab": {
          "base_uri": "https://localhost:8080/"
        },
        "outputId": "62384e8b-10fe-4e3c-a1e9-9b55857c881e"
      },
      "execution_count": 10,
      "outputs": [
        {
          "output_type": "stream",
          "name": "stdout",
          "text": [
            "Method Resolution Order для класу Manager:[<class '__main__.Manager'>, <class '__main__.Person'>, <class '__main__.Employee'>, <class 'object'>]\n"
          ]
        }
      ]
    },
    {
      "cell_type": "markdown",
      "source": [
        "# II. Iterator"
      ],
      "metadata": {
        "id": "dIJyUiNBFG8G"
      }
    },
    {
      "cell_type": "markdown",
      "source": [
        "11. (4б). Визначте рядок(str) з 4ма різними за значенням символами. Створіть ітератор на основі цього рядка. Викличте 5 разів функцію next на ітераторі, 4ри перших з них огорніть у ф-цію print()."
      ],
      "metadata": {
        "id": "13vsm0NyKIzL"
      }
    },
    {
      "cell_type": "code",
      "source": [
        "str1 = \"1234\"\n",
        "my_iterator = iter(str1)\n",
        "\n",
        "for i in range(5):\n",
        "    if i < 4:\n",
        "        print(next(my_iterator))\n",
        "    else:\n",
        "        next(my_iterator)"
      ],
      "metadata": {
        "id": "81ntabAkKuz-",
        "colab": {
          "base_uri": "https://localhost:8080/",
          "height": 251
        },
        "outputId": "04343179-9a6e-44ae-e369-c733cdc13156"
      },
      "execution_count": 14,
      "outputs": [
        {
          "output_type": "stream",
          "name": "stdout",
          "text": [
            "1\n",
            "2\n",
            "3\n",
            "4\n"
          ]
        },
        {
          "output_type": "error",
          "ename": "StopIteration",
          "evalue": "",
          "traceback": [
            "\u001b[0;31m---------------------------------------------------------------------------\u001b[0m",
            "\u001b[0;31mStopIteration\u001b[0m                             Traceback (most recent call last)",
            "\u001b[0;32m<ipython-input-14-60b47d5c4c76>\u001b[0m in \u001b[0;36m<cell line: 4>\u001b[0;34m()\u001b[0m\n\u001b[1;32m      6\u001b[0m         \u001b[0mprint\u001b[0m\u001b[0;34m(\u001b[0m\u001b[0mnext\u001b[0m\u001b[0;34m(\u001b[0m\u001b[0mmy_iterator\u001b[0m\u001b[0;34m)\u001b[0m\u001b[0;34m)\u001b[0m\u001b[0;34m\u001b[0m\u001b[0;34m\u001b[0m\u001b[0m\n\u001b[1;32m      7\u001b[0m     \u001b[0;32melse\u001b[0m\u001b[0;34m:\u001b[0m\u001b[0;34m\u001b[0m\u001b[0;34m\u001b[0m\u001b[0m\n\u001b[0;32m----> 8\u001b[0;31m         \u001b[0mnext\u001b[0m\u001b[0;34m(\u001b[0m\u001b[0mmy_iterator\u001b[0m\u001b[0;34m)\u001b[0m\u001b[0;34m\u001b[0m\u001b[0;34m\u001b[0m\u001b[0m\n\u001b[0m",
            "\u001b[0;31mStopIteration\u001b[0m: "
          ]
        }
      ]
    },
    {
      "cell_type": "markdown",
      "source": [
        "А що якщо викликати цю ж функцію на рядку?"
      ],
      "metadata": {
        "id": "aekWHGXOLRsO"
      }
    },
    {
      "cell_type": "code",
      "source": [
        "str1 = \"1234\"\n",
        "next(srt1)\n",
        "#функція призначена для роботи з ітерабельними об'єктами, а рядок str1 не приведений до такого виду"
      ],
      "metadata": {
        "id": "mxATGsErLV1i",
        "colab": {
          "base_uri": "https://localhost:8080/",
          "height": 162
        },
        "outputId": "89b58cb4-2860-4a21-cf88-4add2e7f1fb0"
      },
      "execution_count": 16,
      "outputs": [
        {
          "output_type": "error",
          "ename": "NameError",
          "evalue": "name 'srt1' is not defined",
          "traceback": [
            "\u001b[0;31m---------------------------------------------------------------------------\u001b[0m",
            "\u001b[0;31mNameError\u001b[0m                                 Traceback (most recent call last)",
            "\u001b[0;32m<ipython-input-16-08408a46265b>\u001b[0m in \u001b[0;36m<cell line: 2>\u001b[0;34m()\u001b[0m\n\u001b[1;32m      1\u001b[0m \u001b[0mstr1\u001b[0m \u001b[0;34m=\u001b[0m \u001b[0;34m\"1234\"\u001b[0m\u001b[0;34m\u001b[0m\u001b[0;34m\u001b[0m\u001b[0m\n\u001b[0;32m----> 2\u001b[0;31m \u001b[0mnext\u001b[0m\u001b[0;34m(\u001b[0m\u001b[0msrt1\u001b[0m\u001b[0;34m)\u001b[0m\u001b[0;34m\u001b[0m\u001b[0;34m\u001b[0m\u001b[0m\n\u001b[0m",
            "\u001b[0;31mNameError\u001b[0m: name 'srt1' is not defined"
          ]
        }
      ]
    },
    {
      "cell_type": "markdown",
      "source": [
        " 12. (5б). Опишіть своїми словами в одному реченні, як ви розумієте різницю між ітерабельними обʼєктами та ітераторами (можна на прикладі)."
      ],
      "metadata": {
        "id": "XwtMEopwJ4pH"
      }
    },
    {
      "cell_type": "markdown",
      "source": [
        "ітератор — це функція, яка перераховує навяні об'єкти (ітерабельні об'єкти) до їх закінчення або умови зупину."
      ],
      "metadata": {
        "id": "-sHrODc3KFn8"
      }
    },
    {
      "cell_type": "markdown",
      "source": [
        "13. (11б). Створіть клас, що має визначений Iterator Protocol та при кожному виклику next повертає літери англійської абетки, поки вони не вичерпаються."
      ],
      "metadata": {
        "id": "E9qJWmNbK8Gl"
      }
    },
    {
      "cell_type": "code",
      "source": [
        "english_alphabet = ['a', 'b', 'c', 'd', 'e', 'f', 'g', 'h', 'i', 'j', 'k', 'l', 'm',\n",
        "                    'n', 'o', 'p', 'q', 'r', 's', 't', 'u', 'v', 'w', 'x', 'y', 'z']\n",
        "class IteratorProtocol:\n",
        "    def __init__(self):\n",
        "        self.index = 0\n",
        "\n",
        "    def __iter__(self):\n",
        "        return self\n",
        "\n",
        "    def __next__(self):\n",
        "        if self.index < len(english_alphabet):\n",
        "            letter = english_alphabet[self.index]\n",
        "            self.index += 1\n",
        "            return letter\n",
        "        else:\n",
        "            raise StopIteration\n",
        "\n",
        "iterator_protocol = IteratorProtocol()\n",
        "\n",
        "try:\n",
        "    while True:\n",
        "        print(next(iterator_protocol))\n",
        "except StopIteration:\n",
        "    pass"
      ],
      "metadata": {
        "id": "cqx-g_RsLo6I",
        "colab": {
          "base_uri": "https://localhost:8080/"
        },
        "outputId": "e9483187-e9b5-4502-8e85-b57b89cb32dc"
      },
      "execution_count": 28,
      "outputs": [
        {
          "output_type": "stream",
          "name": "stdout",
          "text": [
            "a\n",
            "b\n",
            "c\n",
            "d\n",
            "e\n",
            "f\n",
            "g\n",
            "h\n",
            "i\n",
            "j\n",
            "k\n",
            "l\n",
            "m\n",
            "n\n",
            "o\n",
            "p\n",
            "q\n",
            "r\n",
            "s\n",
            "t\n",
            "u\n",
            "v\n",
            "w\n",
            "x\n",
            "y\n",
            "z\n"
          ]
        }
      ]
    },
    {
      "cell_type": "markdown",
      "source": [
        "# Вітаю! Ви велика(ий) молодець, що впоралась(вся). Похваліть себе та побалуйте чимось приємним. Я Вами пишаюся."
      ],
      "metadata": {
        "id": "Z3E3S_s1Fv7-"
      }
    }
  ]
}