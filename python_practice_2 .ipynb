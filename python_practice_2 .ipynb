{
  "nbformat": 4,
  "nbformat_minor": 0,
  "metadata": {
    "colab": {
      "provenance": []
    },
    "kernelspec": {
      "name": "python3",
      "display_name": "Python 3"
    },
    "language_info": {
      "name": "python"
    }
  },
  "cells": [
    {
      "cell_type": "markdown",
      "source": [
        "# I. Змінні та памʼять."
      ],
      "metadata": {
        "id": "p9wwt0LZzNvn"
      }
    },
    {
      "cell_type": "markdown",
      "source": [
        "1. Створити змінні, що посилаються на два цілих числа, що однакові за значенням, де значення належить проміжку від -5 до 256. Перевірте, чи будуть ці змінні рівні тільки за значенням або ж ще будуть посилатися на один і той самий обʼєкт в памʼяті? Наведіть код та дайте текстову відповідь нижче."
      ],
      "metadata": {
        "id": "HTJrrm95xSV9"
      }
    },
    {
      "cell_type": "code",
      "execution_count": null,
      "metadata": {
        "id": "TATni2vzayjG",
        "colab": {
          "base_uri": "https://localhost:8080/"
        },
        "outputId": "bf5de9af-ac00-410f-d44a-1fc7f76a5e31"
      },
      "outputs": [
        {
          "output_type": "stream",
          "name": "stdout",
          "text": [
            "132082913460752\n",
            "132082913460752\n",
            "True\n",
            "False\n"
          ]
        }
      ],
      "source": [
        "x = 10\n",
        "y = 10\n",
        "\n",
        "print (id(x))\n",
        "print (id (y))\n",
        "\n",
        "print (id(x) == id(y))\n",
        "\n",
        "a = 300\n",
        "b = 300\n",
        "\n",
        "print (id(a) == id(b))\n"
      ]
    },
    {
      "cell_type": "markdown",
      "source": [
        "*місце для текстової відповіді\n",
        "Числа у проміжку від - 5 до 256 є зарезервованними (тобто вони закешовані) в інтерпретаторі пайтона,тому у цьому проміжку вони матимуть однаковий id (вони є одним і тим самим об'єктом). Поза цим проміжком id не буде збігатись"
      ],
      "metadata": {
        "id": "zfRG_o3WbRdg"
      }
    },
    {
      "cell_type": "markdown",
      "source": [
        "2. За допомогою якої функції можна перевірити належність змінної до вказаного типу даних (напр. чи змінна True посилається на значення булевого та цілочисленого типу)?"
      ],
      "metadata": {
        "id": "ISORzt6M3vAt"
      }
    },
    {
      "cell_type": "code",
      "source": [
        "x = True\n",
        "y = 49\n",
        "\n",
        "print(isinstance(x, list))\n",
        "print(isinstance(x, bool))\n",
        "print(isinstance(x, int))\n",
        "print(isinstance(y, list))\n",
        "print(isinstance(y, float))\n",
        "print(isinstance(y, int))\n",
        "print(isinstance(y, complex))"
      ],
      "metadata": {
        "id": "9vL9CFaMbfyo",
        "colab": {
          "base_uri": "https://localhost:8080/"
        },
        "outputId": "c8bebd44-617f-440d-ba08-f5b88c3ca090"
      },
      "execution_count": null,
      "outputs": [
        {
          "output_type": "stream",
          "name": "stdout",
          "text": [
            "False\n",
            "True\n",
            "True\n",
            "False\n",
            "False\n",
            "True\n",
            "False\n"
          ]
        }
      ]
    },
    {
      "cell_type": "markdown",
      "source": [
        "# II. Цілі числа та числа з рухомою комою"
      ],
      "metadata": {
        "id": "tRxugKAxwYLw"
      }
    },
    {
      "cell_type": "markdown",
      "source": [
        "3. Створити дві змінні, що посилаються на будь-які ціле число та число з рухомою комою та продемонструвати такі арифметичні операції: додавання, віднімання, ділення, множення, ділення без залишку, ділення по модулю, приведення до ступеню. Всі результати операцій вивести на екран."
      ],
      "metadata": {
        "id": "NLHkgd5Gybc8"
      }
    },
    {
      "cell_type": "code",
      "source": [
        "#х - значення int\n",
        "x = 1\n",
        "#y - значення float\n",
        "y = 1.55\n",
        "\n",
        "print(\" додавання =\", x + y )\n",
        "print(\"віднімання =\", x - y )\n",
        "print(\"ділення / =\", x / y )\n",
        "print(\"множення * =\", x * y )\n",
        "print(\"ділення без залишку //=\", x % y )\n",
        "print(\"ділення по модулю %=\", x % y )\n",
        "print(\"приведення до ступеню **=\", x ** y )"
      ],
      "metadata": {
        "id": "nb8u_3pjb2cA",
        "colab": {
          "base_uri": "https://localhost:8080/"
        },
        "outputId": "cabe1c2e-d288-4cf8-8b76-763484de8fc4"
      },
      "execution_count": null,
      "outputs": [
        {
          "output_type": "stream",
          "name": "stdout",
          "text": [
            " додавання = 2.55\n",
            "віднімання = -0.55\n",
            "ділення / = 0.6451612903225806\n",
            "множення * = 1.55\n",
            "ділення без залишку //= 1.0\n",
            "ділення по модулю %= 1.0\n",
            "приведення до ступеню **= 1.0\n"
          ]
        }
      ]
    },
    {
      "cell_type": "markdown",
      "source": [
        "4. Використовуючи змінні з вправи 3, продемонструйте механізм явного перетворення типів, де числа з рухомою комою перетворюються на цілі числа. Також визначте змінну, що посилається на значення булевого типу і спробуйте явно привести її до цілого числа."
      ],
      "metadata": {
        "id": "1kBClKgPzZnC"
      }
    },
    {
      "cell_type": "code",
      "source": [
        "y_int = int(y)\n",
        "\n",
        "print(y_int)\n",
        "\n",
        "bool_ = False\n",
        "bool_int = int(bool_)\n",
        "print(bool_int)"
      ],
      "metadata": {
        "id": "TbqJbkeUcKsD",
        "colab": {
          "base_uri": "https://localhost:8080/"
        },
        "outputId": "f1798741-f85a-4250-a338-c41e97a0572e"
      },
      "execution_count": null,
      "outputs": [
        {
          "output_type": "stream",
          "name": "stdout",
          "text": [
            "1\n",
            "0\n"
          ]
        }
      ]
    },
    {
      "cell_type": "markdown",
      "source": [
        "# IІІ. Рядки (String)."
      ],
      "metadata": {
        "id": "EVJ7AflwxrZi"
      }
    },
    {
      "cell_type": "markdown",
      "source": [
        "5. Створити пустий рядок двома різними способами."
      ],
      "metadata": {
        "id": "_s5ECzz9zE61"
      }
    },
    {
      "cell_type": "code",
      "source": [
        "str_var_empt1 = ' '\n",
        "str_var_empt2 = \" \"\n",
        "str_var_empt3 = \"\"\" \"\"\"\n",
        "str_var_empt4 = str()\n",
        "\n",
        "print(\"1:\", str_var_empt1)\n",
        "print(\"2:\", str_var_empt2)\n",
        "print(\"3:\", str_var_empt3)\n",
        "print(\"4:\", str_var_empt4)"
      ],
      "metadata": {
        "id": "fkZJHu9Scvc-",
        "colab": {
          "base_uri": "https://localhost:8080/"
        },
        "outputId": "345dc3a3-dfed-4c38-ac68-e18f260977c2"
      },
      "execution_count": null,
      "outputs": [
        {
          "output_type": "stream",
          "name": "stdout",
          "text": [
            "1:  \n",
            "2:  \n",
            "3:  \n",
            "4: \n"
          ]
        }
      ]
    },
    {
      "cell_type": "markdown",
      "source": [
        "6. Створити рядок з апострофом. Зробити його сирим. Вивести обидва рядка на екран."
      ],
      "metadata": {
        "id": "4Bdn9J3MzLf_"
      }
    },
    {
      "cell_type": "code",
      "source": [
        "string1 = \"'\"\n",
        "string2 = R\"'\"\n",
        "\n",
        "print(string1)\n",
        "print(string2)"
      ],
      "metadata": {
        "id": "ivji_hsmc0GH",
        "colab": {
          "base_uri": "https://localhost:8080/"
        },
        "outputId": "a54790bd-9191-47b3-e74e-4b20831d73a6"
      },
      "execution_count": null,
      "outputs": [
        {
          "output_type": "stream",
          "name": "stdout",
          "text": [
            "'\n",
            "'\n"
          ]
        }
      ]
    },
    {
      "cell_type": "markdown",
      "source": [
        "7. Створити змінну, що буде посилатися на Ваше прізвище латинкою. Створити форматований рядок, який буде мати вигляд \"My surname is ______\", де на місці нижніх підкреслень буде Ваше прізвище зі змінної."
      ],
      "metadata": {
        "id": "bg_d8wM4z8dS"
      }
    },
    {
      "cell_type": "code",
      "source": [
        "VI = 'Ishchenko'\n",
        "answer = 'My surname is {0} '.format(VI)\n",
        "print(answer)"
      ],
      "metadata": {
        "id": "kuxFgpWndACq",
        "colab": {
          "base_uri": "https://localhost:8080/"
        },
        "outputId": "0288d3ad-b19b-43f7-8e96-0484d67115ef"
      },
      "execution_count": null,
      "outputs": [
        {
          "output_type": "stream",
          "name": "stdout",
          "text": [
            "My surname is =Ishchenko\n"
          ]
        }
      ]
    },
    {
      "cell_type": "markdown",
      "source": [
        "8. Маючи рядок \"My dog is crazy.\" перетворити його на список [\"my\", \"dog\", \"is\", \"crazy\"]"
      ],
      "metadata": {
        "id": "1Nc6RqvQ0hxU"
      }
    },
    {
      "cell_type": "code",
      "source": [
        "line = \"My dog is crazy\"\n",
        "\n",
        "to_split = line.split(\" \")\n",
        "print(to_split)"
      ],
      "metadata": {
        "id": "w1Ya4RqedUhw",
        "colab": {
          "base_uri": "https://localhost:8080/"
        },
        "outputId": "7cfe10f0-1e1b-47ac-966e-627941593418"
      },
      "execution_count": null,
      "outputs": [
        {
          "output_type": "stream",
          "name": "stdout",
          "text": [
            "['My', 'dog', 'is', 'crazy']\n"
          ]
        }
      ]
    },
    {
      "cell_type": "markdown",
      "source": [
        "# IV. Робота зі списками."
      ],
      "metadata": {
        "id": "GYVqN9uP1D4n"
      }
    },
    {
      "cell_type": "markdown",
      "source": [
        "9. Створити список двома різними за синтаксисом способами. За допомогою вбудованої функції обчисліть довжину одного з них."
      ],
      "metadata": {
        "id": "7-DeDunw2sO-"
      }
    },
    {
      "cell_type": "code",
      "source": [
        "list_var1 = list((True, None, 5.6, 7, 'a'))\n",
        "list_var2_empty = []\n",
        "\n",
        "lenth = 'Довжина списку {0}'.format(len(list_var1))\n",
        "print(lenth)\n",
        "\n",
        "\n"
      ],
      "metadata": {
        "id": "zxg06Uuxdyoh",
        "colab": {
          "base_uri": "https://localhost:8080/"
        },
        "outputId": "1f6cafd3-89eb-4339-cbff-ea3a450191ef"
      },
      "execution_count": 7,
      "outputs": [
        {
          "output_type": "stream",
          "name": "stdout",
          "text": [
            "Довжина списку 5\n"
          ]
        }
      ]
    },
    {
      "cell_type": "markdown",
      "source": [
        "10. Створіть два списка та за допомогою спеціального методу додайте другий з них в якості останнього елемента першого."
      ],
      "metadata": {
        "id": "8vmGUTjL22gI"
      }
    },
    {
      "cell_type": "code",
      "source": [
        "list1 = [1, True, False, 91.1, \"VI\"]\n",
        "List2 = [5, \"List\", None, \"Bull\", list1]\n",
        "\n",
        "print(List2)\n",
        "\n",
        "\n",
        "\n",
        "\n"
      ],
      "metadata": {
        "id": "uHtjWYw7d7hm",
        "colab": {
          "base_uri": "https://localhost:8080/"
        },
        "outputId": "0686a24d-d6cf-45d6-f1dc-e514518d8d81"
      },
      "execution_count": 11,
      "outputs": [
        {
          "output_type": "stream",
          "name": "stdout",
          "text": [
            "[5, 'List', None, 'Bull', [1, True, False, 91.1, 'VI']]\n"
          ]
        }
      ]
    },
    {
      "cell_type": "markdown",
      "source": [
        "11. Створіть список, де елементами цього списку також є списки. Отримай перший елемент з останнього рядка та виведи значення на екран."
      ],
      "metadata": {
        "id": "JC3BkD-67_--"
      }
    },
    {
      "cell_type": "code",
      "source": [
        "list4_11 = [[1, 2, 3, 4], ['q', 'w', 'e', 'r'], [1.1, 1.2, 1.3, 1.4]]\n",
        "print(list4_11[2][0])"
      ],
      "metadata": {
        "id": "Kz2jZHsGeLlz",
        "colab": {
          "base_uri": "https://localhost:8080/"
        },
        "outputId": "fd95cbd4-1ac2-44aa-9786-c5b05c52f827"
      },
      "execution_count": 12,
      "outputs": [
        {
          "output_type": "stream",
          "name": "stdout",
          "text": [
            "1.1\n"
          ]
        }
      ]
    },
    {
      "cell_type": "markdown",
      "source": [
        "12. Створіть список з десяти елементів різного типу. Отримайте всі елементи, окрім двох перших та двох останніх та збережіть їх в новій змінній."
      ],
      "metadata": {
        "id": "JA47PKTv8zFK"
      }
    },
    {
      "cell_type": "code",
      "source": [
        "list4_12 = [1.2, True, False, None, 1, 'VI', 1, [1, 2, 3], (4.5, 'a'), 10]\n",
        "list4_12_1 = list4_12[2:8]\n",
        "print(f\"Елементи з 2-го по 2-а останні : {list4_12_1}\")"
      ],
      "metadata": {
        "id": "_rHdUR-ueP4-",
        "colab": {
          "base_uri": "https://localhost:8080/"
        },
        "outputId": "17306868-77c3-4504-852b-0ef945f7380c"
      },
      "execution_count": 19,
      "outputs": [
        {
          "output_type": "stream",
          "name": "stdout",
          "text": [
            "Елементи з 2-го по 2-а останні : [False, None, 1, 'VI', 1, [1, 2, 3]]\n"
          ]
        }
      ]
    },
    {
      "cell_type": "markdown",
      "source": [
        "# V. Робота з кортежами."
      ],
      "metadata": {
        "id": "pCjR1dJb1Qbi"
      }
    },
    {
      "cell_type": "markdown",
      "source": [
        "14. Створити кортеж з один елементом."
      ],
      "metadata": {
        "id": "fAZCxAX06R_k"
      }
    },
    {
      "cell_type": "code",
      "source": [
        "my_empty_tuple = (1.1, )\n",
        "print(my_empty_tuple)\n",
        "isinstance(my_empty_tuple, tuple)\n"
      ],
      "metadata": {
        "id": "H7d82WkQev3e",
        "colab": {
          "base_uri": "https://localhost:8080/"
        },
        "outputId": "3c40384a-0588-407d-8c6d-0e3d4a6441f0"
      },
      "execution_count": 2,
      "outputs": [
        {
          "output_type": "stream",
          "name": "stdout",
          "text": [
            "(1.1,)\n"
          ]
        },
        {
          "output_type": "execute_result",
          "data": {
            "text/plain": [
              "True"
            ]
          },
          "metadata": {},
          "execution_count": 2
        }
      ]
    },
    {
      "cell_type": "markdown",
      "source": [
        "15. Порівняйте список та кортеж. Назвіть схожості та відмінності, випадки використання."
      ],
      "metadata": {
        "id": "8LCtYcmI6w1M"
      }
    },
    {
      "cell_type": "markdown",
      "source": [],
      "metadata": {
        "id": "-lGpmCZfVCLe"
      }
    },
    {
      "cell_type": "markdown",
      "source": [
        "Для кортежу утворюючою є круглі дужки/ команда \"list\", а для списку квадратні дужки та кома (чого не має у списку).\n",
        "**Тапл немутабельний, тобто щоб змінити тапл потрібно буде створювати новий об'єкт**\n",
        "Через меншу кількість операцій тпали швидші, але незмінні\n",
        "Список використовуємо, коли важливий порядок, додавання віднімання елементів (вони постіно оновлюються)\n",
        "Тапл - стала структура (якою ми її задали, такою вона і повинна бути), тому коли нам потрібно обмежети користувача програми у вених сталих даних ми використовуємо тапл\n",
        "Список - гетерогенний\n",
        "Тампл - гомогенний (однаковий тип даних)\n",
        "\n"
      ],
      "metadata": {
        "id": "fUsN1Hnue0C6"
      }
    },
    {
      "cell_type": "markdown",
      "source": [
        "16. Створіть кортеж з 11ти елементів чисел з рухомою комою та отримайте кожен парний за індексом елемент в зворотньому порядку. Наприклад, маючи (1.2, 2.3, 3.3, 4.3, 5.3, 6.3, 7.3, 8.3, 9.3, 0.3), отримати (0.3, 8.3, 6.3, 4.3, 2.3). Результат збережіть в нову змінну та виведіть на екран."
      ],
      "metadata": {
        "id": "m0xrwFijAmDD"
      }
    },
    {
      "cell_type": "code",
      "source": [
        "tuple5_16 = (1.2, 2.3, 3.3, 4.3, 5.3, 6.3, 7.3, 8.3, 9.3, 0.3)\n",
        "#за формулою [start:end:step]\n",
        "#зараз буде створений новий об'єкт, так як тапл немутабельний\n",
        "tuple_new = tuple5_16[::-2]\n",
        "print(tuple_new)"
      ],
      "metadata": {
        "id": "p-5DAH6XfAGA",
        "colab": {
          "base_uri": "https://localhost:8080/"
        },
        "outputId": "7e9bde98-ebe5-4bd9-ad88-6fa563eede4b"
      },
      "execution_count": 3,
      "outputs": [
        {
          "output_type": "stream",
          "name": "stdout",
          "text": [
            "(0.3, 8.3, 6.3, 4.3, 2.3)\n"
          ]
        }
      ]
    },
    {
      "cell_type": "markdown",
      "source": [],
      "metadata": {
        "id": "jMKTm3yErcx2"
      }
    },
    {
      "cell_type": "markdown",
      "source": [
        "# VI. Множини (Set)."
      ],
      "metadata": {
        "id": "rW_I9dt3x6cW"
      }
    },
    {
      "cell_type": "markdown",
      "source": [
        "17. Створити множину без елементів. Після цого за допомогою методу додайте кілька різних елементів до множини. Чи множини є змінним типом даних?"
      ],
      "metadata": {
        "id": "zNjRLHLw1Bgg"
      }
    },
    {
      "cell_type": "code",
      "source": [
        "set6_17 = set()\n",
        "type(set6_17)\n",
        "print(id(set6_17))\n",
        "#за допомогою команди .add()\n",
        "set6_17.add(1)\n",
        "set6_17.add('VI')\n",
        "set6_17.add(5.1)\n",
        "print(set6_17)\n",
        "print(id(set6_17))"
      ],
      "metadata": {
        "id": "KOv7zc2Kfo4N",
        "colab": {
          "base_uri": "https://localhost:8080/"
        },
        "outputId": "4686c5fa-20e8-4d5b-ecf1-b430fb014156"
      },
      "execution_count": 6,
      "outputs": [
        {
          "output_type": "stream",
          "name": "stdout",
          "text": [
            "139293514357824\n",
            "{'VI', 1, 5.1}\n",
            "139293514357824\n"
          ]
        }
      ]
    },
    {
      "cell_type": "markdown",
      "source": [
        "Так, множини э змінним типом данних, тобто мутабельним - при зміні значення множин, айді не змінюється.\n",
        "Відповідно сети(множини) можуть мати всі види даних (гетерогенні)."
      ],
      "metadata": {
        "id": "vxS6dVYiftZQ"
      }
    },
    {
      "cell_type": "markdown",
      "source": [
        "18. Створити множину, маючи список my_list = [1, 1, 2, 67, 67, 8, 9]. Пояснити, чому \"зникли\" деякі елементи."
      ],
      "metadata": {
        "id": "gHpT0Zw_1HEF"
      }
    },
    {
      "cell_type": "code",
      "source": [
        "my_list = set([1, 1, 2, 67, 67, 8, 9])\n",
        "print(my_list)\n",
        "type(my_list)"
      ],
      "metadata": {
        "id": "qCN4uvJ_fxmu",
        "colab": {
          "base_uri": "https://localhost:8080/"
        },
        "outputId": "ad70155d-45b5-43b1-d8da-b059692b7ef4"
      },
      "execution_count": 10,
      "outputs": [
        {
          "output_type": "stream",
          "name": "stdout",
          "text": [
            "{1, 2, 67, 8, 9}\n"
          ]
        },
        {
          "output_type": "execute_result",
          "data": {
            "text/plain": [
              "set"
            ]
          },
          "metadata": {},
          "execution_count": 10
        }
      ]
    },
    {
      "cell_type": "markdown",
      "source": [
        "У множині значення не повторюються, тобто повторювані значення автоматично підчищаються, щоб залишилось одне. Значення множини автоматично сортуються."
      ],
      "metadata": {
        "id": "tFNc1e20fyny"
      }
    },
    {
      "cell_type": "markdown",
      "source": [
        "19. Створіть дві множини. Продемонстуйте над ними операції: обʼєднання, різниці, пересічі та симетричної різниці. Використовуйте методи, що не змінюють множини, а створюють нові."
      ],
      "metadata": {
        "id": "SRMkGizS1UwY"
      }
    },
    {
      "cell_type": "code",
      "source": [
        "set_1 = {1.1, 1.2, 'VI'}\n",
        "set_2 = {8, \"Hair\", 11, 5, 1.1, 1.2}\n",
        "print(\"об'єднання:\", set_1 | set_2)\n",
        "print(\"різниця:\", set_1 - set_2)\n",
        "print(\"обернена різниця:\", set_2 - set_1)\n",
        "print(\"пересіч\", set_1 & set_2)\n",
        "print(\"симетрична різниця\", set_1 ^ set_2)"
      ],
      "metadata": {
        "id": "h0T-VuDnf3Ri",
        "colab": {
          "base_uri": "https://localhost:8080/"
        },
        "outputId": "74468004-e37e-4612-dabb-2e9636fd7f94"
      },
      "execution_count": 22,
      "outputs": [
        {
          "output_type": "stream",
          "name": "stdout",
          "text": [
            "об'єднання: {'VI', 1.1, 1.2, 5, 8, 11, 'Hair'}\n",
            "різниця: {'VI'}\n",
            "обернена різниця: {8, 11, 5, 'Hair'}\n",
            "пересіч {1.1, 1.2}\n",
            "симетрична різниця {'VI', 5, 'Hair', 8, 11}\n"
          ]
        }
      ]
    },
    {
      "cell_type": "markdown",
      "source": [
        "# VII. Словники (Dictionary)."
      ],
      "metadata": {
        "id": "kWc8gkzTx7Ea"
      }
    },
    {
      "cell_type": "markdown",
      "source": [
        "20. Створіть пустий словник. До нього додайте чотири пари елементів такі, щоб їхні ключі були різних типів. Чи може список бути ключем? Чому?"
      ],
      "metadata": {
        "id": "i5FLwj-B2ybQ"
      }
    },
    {
      "cell_type": "code",
      "source": [
        "dict7_20 ={}\n",
        "#або dict7_20 = dict()\n",
        "dict7_20['Math'] = 1.2\n",
        "dict7_20['Hair'] = 'Cut'\n",
        "dict7_20['Boolean'] = False\n",
        "dict7_20['Int'] = 5\n",
        "\n",
        "print('updated dictionary:', dict7_20)"
      ],
      "metadata": {
        "id": "hxgv3BzrgLAV",
        "colab": {
          "base_uri": "https://localhost:8080/"
        },
        "outputId": "c7933915-2308-41d4-d046-32e5bed3636b"
      },
      "execution_count": 4,
      "outputs": [
        {
          "output_type": "stream",
          "name": "stdout",
          "text": [
            "updated dictionary: {'Math': 1.2, 'Hair': 'Cut', 'Boolean': False, 'Int': 5}\n"
          ]
        }
      ]
    },
    {
      "cell_type": "markdown",
      "source": [
        "Ключем до словника може бути кортеж, наприклад, адже його змінні сталі ( не змінюються). На відміну від списка, змінні якого можуть змінюватись при однаковому айді."
      ],
      "metadata": {
        "id": "zwa7UVN-gR3m"
      }
    },
    {
      "cell_type": "markdown",
      "source": [
        "21. Створіть словник, де значенням в одній з пар теж буде словник, який теж має вкладений словник. Виведіть на екран значення, що міститься в словнику, що знаходиться на найнижчому рівні ієрархії вкладеності (найбільш внутрішній)."
      ],
      "metadata": {
        "id": "WM_pMlJsgoNf"
      }
    },
    {
      "cell_type": "code",
      "source": [
        "dict_1 = {\n",
        "    'dict1.0': {\n",
        "        'dict2.0':{\n",
        "            'key':'value'\n",
        "        }\n",
        "    }\n",
        "}\n",
        "print(dict_1['dict1.0']['dict2.0']['key'])"
      ],
      "metadata": {
        "id": "60dlP7IHhAy4",
        "colab": {
          "base_uri": "https://localhost:8080/"
        },
        "outputId": "ea40a895-09d1-4a45-d9f3-65ca2b76a974"
      },
      "execution_count": 5,
      "outputs": [
        {
          "output_type": "stream",
          "name": "stdout",
          "text": [
            "value\n"
          ]
        }
      ]
    },
    {
      "cell_type": "markdown",
      "source": [
        "# Вітаю! Ви велика(ий) молодець, що впоралась(вся). Похваліть себе та побалуйте чимось приємним. Я Вами пишаюся."
      ],
      "metadata": {
        "id": "xOZP0hkx6cCr"
      }
    }
  ]
}
