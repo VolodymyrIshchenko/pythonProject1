{
 "cells": [
  {
   "cell_type": "markdown",
   "metadata": {
    "id": "qDEi2Pi-4yUC"
   },
   "source": [
    "# I. Оператори порівняння та логічні оператори. Умови."
   ]
  },
  {
   "cell_type": "markdown",
   "metadata": {
    "id": "3v8D4Dkm43Ua"
   },
   "source": [
    "1. Створіть цілочисленну змінну зі своїм щасливим або улюбленим числом. Напишіть код, який би автоматизовував наступну задачу.\n",
    "\n",
    "Якщо число парне, помножте його на 2 та виведіть результат на екран.\n",
    "\n",
    "Але якщо число непарне, помножте його на 3 та додайте 1 і виведіть на екран."
   ]
  },
  {
   "cell_type": "code",
   "execution_count": null,
   "metadata": {
    "colab": {
     "base_uri": "https://localhost:8080/"
    },
    "id": "dlVjc-Nu4bmb",
    "outputId": "67f5b249-ca8a-4073-b651-67b3546d896e"
   },
   "outputs": [
    {
     "name": "stdout",
     "output_type": "stream",
     "text": [
      "292\n"
     ]
    }
   ],
   "source": [
    "x_int = 97\n",
    "if (x_int // 2 == 0) :\n",
    "  print (x_int * 2)\n",
    "else:\n",
    "    print((x_int * 3)+1 )\n"
   ]
  },
  {
   "cell_type": "markdown",
   "metadata": {
    "id": "H669P0QK5BI_"
   },
   "source": [
    "2. Створіть змінну, що посилається на список. Якщо список пустий, додайте будь-який елемент у кінець списку. Якщо ж ні, то нічого не робіть."
   ]
  },
  {
   "cell_type": "code",
   "execution_count": null,
   "metadata": {
    "colab": {
     "base_uri": "https://localhost:8080/"
    },
    "id": "ecWlfra45f6E",
    "outputId": "49bb5b5a-5a2f-4e4f-e521-d061f11d6676"
   },
   "outputs": [
    {
     "name": "stdout",
     "output_type": "stream",
     "text": [
      "False\n",
      "[1]\n"
     ]
    }
   ],
   "source": [
    "y_list = []\n",
    "print(bool(y_list))\n",
    "if (y_list, False):\n",
    "  y_list.append(1)\n",
    "else: y_list *= 3\n",
    "\n",
    "print(y_list)\n",
    "\n",
    "# 0 - False; будь-яке інше число/ значення (ненульове) - True\n",
    "\n",
    "\n"
   ]
  },
  {
   "cell_type": "markdown",
   "metadata": {
    "id": "h9Y3cMUd5h85"
   },
   "source": [
    "3. Створіть рядок зі своїм імʼям латинкою. Напишіть код, який би автоматизовував наступну задачу.\n",
    "\n",
    "Якщо в імені є літера \"а\"\n",
    " або \"i\", Виведіть на екран повідомлення \"A or I is in the name\".\n",
    "\n",
    "\n",
    "\n",
    "Якщо в імені є літери \"o\" та \"n\", Виведіть на екран повідомлення \"O and N is in the name\".\n",
    "\n",
    "Також якщо в імені немає літери \"о\", але є \"n\", Виведіть на екран повідомлення \"Only N is in the name\".\n",
    "\n",
    "В решті випадків виведіть на екран повідомлення \"There is no N in the name, but there might be O\".\n",
    "\n",
    "Зверніть увагу, що, наприклад, для імені \"Antonina\" буде виведено два повідомлення."
   ]
  },
  {
   "cell_type": "code",
   "execution_count": null,
   "metadata": {
    "colab": {
     "base_uri": "https://localhost:8080/"
    },
    "id": "bUH4LUx35u52",
    "outputId": "a284a071-427a-49f2-cc4b-b69db30ebaf7"
   },
   "outputs": [
    {
     "name": "stdout",
     "output_type": "stream",
     "text": [
      "There is no N in the name, but there might be O\n"
     ]
    }
   ],
   "source": [
    "name_str = \"Volodymyr\"\n",
    "#наявна літера \"o\", але відсутня \"n\", тому \"There is no N in the name, but there might be O\"\n",
    "if \"o\" in(name_str):\n",
    "  print(\"There is no N in the name, but there might be O\")\n",
    "\n",
    "\n"
   ]
  },
  {
   "cell_type": "markdown",
   "metadata": {
    "id": "wPCXJv4354cU"
   },
   "source": [
    "# II. Comprehensions."
   ]
  },
  {
   "cell_type": "markdown",
   "metadata": {
    "id": "jULLW5jN55Pw"
   },
   "source": [
    "4. Створіть список, використовуючи if (не if-else), range та comprehension."
   ]
  },
  {
   "cell_type": "code",
   "execution_count": null,
   "metadata": {
    "colab": {
     "base_uri": "https://localhost:8080/"
    },
    "id": "mlZalnVC6W3F",
    "outputId": "818e8598-0e76-4307-ae88-b47ae60688ed"
   },
   "outputs": [
    {
     "name": "stdout",
     "output_type": "stream",
     "text": [
      "['C', 'I']\n",
      "[1, 6, 11, 16, 21, 26, 31, 36, 41, 46, 51, 56, 61, 66, 71, 76, 81, 86, 91, 96]\n",
      "[1, 4, 7, 10, 13, 16, 19]\n"
     ]
    }
   ],
   "source": [
    "list_2_4 = 10\n",
    "if list_2_4 > 5:\n",
    "  print(list('CI'))\n",
    "\n",
    "#print(list(range(start, stop, step)))\n",
    "print(list(range(1, 100, 5)))\n",
    "\n",
    "#my_list = [num for num in range()]\n",
    "list_2_4_1 = [num for num in range (1,21,3)]\n",
    "print(list_2_4_1)\n"
   ]
  },
  {
   "cell_type": "code",
   "execution_count": null,
   "metadata": {
    "id": "lcbIVG0rvW-k"
   },
   "outputs": [],
   "source": []
  },
  {
   "cell_type": "markdown",
   "metadata": {
    "id": "LqhEQ4JW6XcC"
   },
   "source": [
    "5. Створіть словник, використовуючи dict comprehension, що містить if else. Коли слід використовувати comprehensions, а коли їх слід уникати?"
   ]
  },
  {
   "cell_type": "code",
   "execution_count": null,
   "metadata": {
    "colab": {
     "base_uri": "https://localhost:8080/"
    },
    "id": "1yVaFbOs6hta",
    "outputId": "a18adab5-d8ab-4539-90b3-8804b406f4d0"
   },
   "outputs": [
    {
     "name": "stdout",
     "output_type": "stream",
     "text": [
      "<class 'tuple'>\n",
      "{333: 'not applicable', 4444: 'not applicable', 55555: 'not applicable', 4324124: 'applicable', 213122312: 'applicable'}\n"
     ]
    }
   ],
   "source": [
    "passwords = (333, 4444, 55555, 4324124, 213122312)\n",
    "print(type(passwords))\n",
    "\n",
    "dict_1 = {x: 'applicable' if len(str(x)) > 6 else 'not applicable' for x in passwords}\n",
    "print(dict_1)\n"
   ]
  },
  {
   "cell_type": "markdown",
   "metadata": {
    "id": "wbkzNhKq6hzz"
   },
   "source": [
    "comprehensions слід використовувати для покращення читабельності у простих операціях. Уникати, коли э необхідність уведення умов для обробки даних. \"коли ми хочемо спростити свій код, не втрачаючи читабельності, а навпаки її поліпшити\". Не варто, коли потрібно робити переноси на новий рядок. Один терпимо, але більше краще не робити."
   ]
  },
  {
   "cell_type": "markdown",
   "metadata": {
    "id": "ZlqB8G3G6lHP"
   },
   "source": [
    "6. Створіть список з рядками та запишіть його у змінну. Створіть ще один список на основі попереднього, де кожен рядок буде містити тільки три перших заглавних символи. Наприклад: ['hello', 'i', 'dont', 'care'] -> ['HEL', 'I', 'DON', 'CAR']. Використання comprehensions обовʼязкове."
   ]
  },
  {
   "cell_type": "code",
   "execution_count": null,
   "metadata": {
    "colab": {
     "base_uri": "https://localhost:8080/"
    },
    "id": "nw6rz0bR60VC",
    "outputId": "dd90721c-c2b1-4cef-e9d7-e367d832abbe"
   },
   "outputs": [
    {
     "name": "stdout",
     "output_type": "stream",
     "text": [
      "['CAR', 'WEL', 'WIE', 'ENG', 'SUS']\n"
     ]
    }
   ],
   "source": [
    "list_with_strings = ['cars', 'welding', 'wiers', 'engine', 'suspension']\n",
    "new_list_with_strings = [x[:3].upper() for x in list_with_strings]\n",
    "print(new_list_with_strings)"
   ]
  },
  {
   "cell_type": "markdown",
   "metadata": {
    "id": "Tj573IAH64Fz"
   },
   "source": [
    "# III. Цикли."
   ]
  },
  {
   "cell_type": "markdown",
   "metadata": {
    "id": "tN_33xdE65H5"
   },
   "source": [
    "7. Продемонструйте роботу циклу while. Не можна використовувати True для запуску циклу, щоб уникнути безкінечного циклу!"
   ]
  },
  {
   "cell_type": "code",
   "execution_count": null,
   "metadata": {
    "colab": {
     "base_uri": "https://localhost:8080/"
    },
    "id": "Kd9FO6yG63P5",
    "outputId": "e4b518e3-6a3b-487e-dd2b-a8f3b2c7c051"
   },
   "outputs": [
    {
     "name": "stdout",
     "output_type": "stream",
     "text": [
      "Loop prevented\n",
      "Loop prevented\n",
      "Loop prevented\n"
     ]
    }
   ],
   "source": [
    "x = 100\n",
    "\n",
    "while x > 1:\n",
    "  print('Loop prevented')\n",
    "  x = x / 5"
   ]
  },
  {
   "cell_type": "markdown",
   "metadata": {
    "id": "x2CmfZO-7pW0"
   },
   "source": [
    "8. Напишіть програму, яка виведе на екран непарні числа в діапазоні від 0 до 20 включно."
   ]
  },
  {
   "cell_type": "code",
   "execution_count": null,
   "metadata": {
    "colab": {
     "base_uri": "https://localhost:8080/"
    },
    "id": "aCSRYA6s7tkF",
    "outputId": "152a4a9b-d6dd-43e2-ea5f-ee94c85c6df0"
   },
   "outputs": [
    {
     "name": "stdout",
     "output_type": "stream",
     "text": [
      "1\n",
      "3\n",
      "5\n",
      "7\n",
      "9\n"
     ]
    }
   ],
   "source": [
    "x = list (range(10))\n",
    "for i in x:\n",
    "  if i %2 != 0:\n",
    "    print(i)"
   ]
  },
  {
   "cell_type": "markdown",
   "metadata": {
    "id": "MDWNocZD7t_B"
   },
   "source": [
    "9. Створіть список з елементами булевого типу або None. Використовуючи цикли, отримайте в результаті список з кортежами, де перший елемент кортежу - індекс(ціле число), а другий елемент - відповідне значення з першого списку.\n",
    "\n",
    "Наприклад, [True, True, None, False] -> [(0, True), (1, True), (2, None), (3, False)]"
   ]
  },
  {
   "cell_type": "code",
   "execution_count": null,
   "metadata": {
    "colab": {
     "base_uri": "https://localhost:8080/"
    },
    "id": "0EUyjMdp7yfh",
    "outputId": "df1f4e56-7c27-4d0e-d8e0-95a18f367659"
   },
   "outputs": [
    {
     "name": "stdout",
     "output_type": "stream",
     "text": [
      "((0, True), (1, True), (2, None), (3, False))\n"
     ]
    }
   ],
   "source": [
    "list_boolean_none =  [True, True, None, False]\n",
    "#tuple_list = ((0, True), (1, True), (2, None), (3, False))\n",
    "tuple_list = []\n",
    "for x in enumerate(list_boolean_none):\n",
    "  tuple_list.append((x))\n",
    "\n",
    "print(tuple(tuple_list))\n"
   ]
  },
  {
   "cell_type": "markdown",
   "metadata": {
    "id": "-6XUqlcG7zKs"
   },
   "source": [
    "10. Створіть словник, де ключі - назви книжок, а значення - їхня кількість у наявності в Вашій міні-бібліотеці. Бібліотека має містити щонайменше 6 книжок (6 пар значень у словнику) і щонайбільше 10 (пар значень). Використовуючи цикли, оновіть словник (не створюйте новий) так, щоби кількість книг у наявності збільшилося на 5 кожної книги. Наприклад,\n",
    "{'It': 3, 'Fault stars': 10, 'Bible': 17, 'Psychological romance': 4, 'Harry Potter': 13} -> {'It': 8, 'Fault stars': 15, 'Bible': 22, 'Psychological romance': 9, 'Harry Potter': 18}"
   ]
  },
  {
   "cell_type": "code",
   "execution_count": null,
   "metadata": {
    "colab": {
     "background_save": true,
     "base_uri": "https://localhost:8080/",
     "height": 349
    },
    "id": "Ceoj9wwb791q",
    "outputId": "5fa8b775-06e2-42bb-ec4c-423b979f5255"
   },
   "outputs": [
    {
     "name": "stdout",
     "output_type": "stream",
     "text": [
      "{'It': 8, 'Fault stars': 15, 'Bible': 22, 'Psychological romance': 9, 'Harry Potter': 18, 'Triumphal Arch': 10}\n"
     ]
    }
   ],
   "source": [
    "\n",
    "my_new_dict = {k: v for k, v in (('It', 3),\n",
    "                                 ('Fault stars', 10),\n",
    "                                 ('Bible', 17),\n",
    "                                 ('Psychological romance', 4),\n",
    "                                 ('Harry Potter', 13)\n",
    "                                 ('Triumphal Arch', 5))}\n",
    "my_new1_dict = {k: v for k, v in (('It', 8),\n",
    "                                 ('Fault stars', 15),\n",
    "                                 ('Bible', 22),\n",
    "                                 ('Psychological romance', 9),\n",
    "                                 ('Harry Potter', 18)\n",
    "                                 ('Triumphal Arch', 10))}\n",
    "\n",
    "for value in my_new_dict:\n",
    "  if value in my_new1_dict:\n",
    "        my_new_dict [value] = my_new1_dict[value]\n",
    "\n",
    "print(my_new_dict)\n",
    "\n"
   ]
  },
  {
   "cell_type": "markdown",
   "metadata": {
    "id": "QLzyJM288AC7"
   },
   "source": [
    "11. Визначте цілочислену змінну n, що належить проміжку від 4 до 10 включно. Використовуючи цикли, виведіть в консоль наступний патерн.\n",
    "\n",
    "#\n",
    "##\n",
    "###\n",
    "####\n",
    "\n",
    "... #*n\n"
   ]
  },
  {
   "cell_type": "code",
   "execution_count": 65,
   "metadata": {
    "colab": {
     "base_uri": "https://localhost:8080/"
    },
    "id": "KOpng87s8Duz",
    "outputId": "6ad74453-fa26-4f11-f83c-202b9edf7b08"
   },
   "outputs": [
    {
     "output_type": "stream",
     "name": "stdout",
     "text": [
      "####\n",
      "#####\n",
      "######\n",
      "#######\n",
      "########\n",
      "#########\n"
     ]
    }
   ],
   "source": [
    "n = range(4, 10)\n",
    "for i in n:\n",
    "    print(\"#\" * i)"
   ]
  },
  {
   "cell_type": "markdown",
   "metadata": {
    "id": "_bd-bqAT8EHn"
   },
   "source": [
    "12. Гра \"Нумо вгадай\".\n",
    "Розробіть просту гру, де користувач має вгадати випадкове число від 1 до 100. Для генерації випадкового числа використовуйте функцію random.randint(a, b) (тут a та b включно). Для отримання числа з консолі використовуйте функцію input(), результат якої обовʼязково явно приведіть до типу int.\n",
    "\n",
    "Підказка: використовуйте цикл while та умови if-else, щоб повідомити користувачу піказки (напр. \"Більше\", \"Менше\") поки користувач не вгадає. По завершенню виведіть кількість спроб, які знадобилися для вгадування."
   ]
  },
  {
   "cell_type": "code",
   "execution_count": 59,
   "metadata": {
    "id": "IK9nnxFK8Hkl",
    "colab": {
     "base_uri": "https://localhost:8080/"
    },
    "outputId": "703d00fe-46a9-4132-d9b4-4c569cbf0e29"
   },
   "outputs": [
    {
     "output_type": "stream",
     "name": "stdout",
     "text": [
      "Введіть число: 10\n",
      "\u001B[1mбільше\u001B[0m\n",
      "----------\n",
      "Введіть число: 20\n",
      "\u001B[1mбільше\u001B[0m\n",
      "----------\n",
      "Введіть число: 30\n",
      "\u001B[1mбільше\u001B[0m\n",
      "----------\n",
      "Введіть число: 40\n",
      "\u001B[1mбільше\u001B[0m\n",
      "----------\n",
      "Введіть число: 50\n",
      "\u001B[1mбільше\u001B[0m\n",
      "----------\n",
      "Введіть число: 60\n",
      "\u001B[1mменше\u001B[0m\n",
      "Введіть число: 55\n",
      "----------\n",
      "\u001B[1mВи вгадали число\u001B[0m 55\n",
      "\u001B[1m\n",
      "кількість спроб\u001B[0m: 5\n"
     ]
    }
   ],
   "source": [
    "import random\n",
    "random_number = random.randint(1, 100)\n",
    "\n",
    "\n",
    "\n",
    "user_attempt = 0\n",
    "\n",
    "while True:\n",
    "  user_number = int(input(\"Введіть число: \"))\n",
    "\n",
    "  if user_number > random_number:\n",
    "      print(\"\\033[1mменше\\033[0m\")\n",
    "  elif user_number < random_number:\n",
    "      print(\"\\033[1mбільше\\033[0m\")\n",
    "      user_attempt += 1\n",
    "      print('-'*10)\n",
    "  else:\n",
    "    print('-'*10)\n",
    "    print(f\"\\033[1mВи вгадали число\\033[0m {random_number}\")\n",
    "    print(f\"\\033[1m\\nкількість спроб\\033[0m: {user_attempt}\")\n",
    "    break\n",
    "\n",
    "\n"
   ]
  },
  {
   "cell_type": "markdown",
   "metadata": {
    "id": "PXoXWb7Z8IGi"
   },
   "source": [
    "# Вітаю! Ви велика(ий) молодець, що впоралась(вся). Похваліть себе та побалуйте чимось приємним. Я Вами пишаюся."
   ]
  }
 ],
 "metadata": {
  "colab": {
   "provenance": []
  },
  "kernelspec": {
   "display_name": "Python 3 (ipykernel)",
   "language": "python",
   "name": "python3"
  },
  "language_info": {
   "name": "python"
  }
 },
 "nbformat": 4,
 "nbformat_minor": 0
}
