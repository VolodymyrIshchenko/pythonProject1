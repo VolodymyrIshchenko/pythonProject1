{
  "nbformat": 4,
  "nbformat_minor": 0,
  "metadata": {
    "colab": {
      "provenance": []
    },
    "kernelspec": {
      "name": "python3",
      "display_name": "Python 3"
    },
    "language_info": {
      "name": "python"
    }
  },
  "cells": [
    {
      "cell_type": "markdown",
      "source": [
        "# I. Functions. Arguments."
      ],
      "metadata": {
        "id": "kXpppdVm6wFy"
      }
    },
    {
      "cell_type": "markdown",
      "source": [
        "1. (5б) Назвіть основні 4 смислові  частини, з яких складається функція."
      ],
      "metadata": {
        "id": "u_krJdlbAkVz"
      }
    },
    {
      "cell_type": "markdown",
      "source": [
        "0. Оператор def (визначає функцію)\n",
        "1. Назва функції, за допомогою якої можна звернутись до певного рядку коду\n",
        "2. Аргументи функції (позиційні (обов'язкові); key word arguments (необов'язкові). *якщо позиццйних не має, то всі можуть бути кі ворд* Напр. (arg, kwarg=None)\n",
        "3. Тіло функції\n",
        "4. Return (опціонально, але не рекомендується опускати)\n",
        "коли функція вводиться у перший раз, обов'язково потрібно прописати оператор def, далі вона викликається тільки за ім'ям"
      ],
      "metadata": {
        "id": "KKTrTXmHAptb"
      }
    },
    {
      "cell_type": "markdown",
      "source": [
        "2. (3б) Визначте функцію, що приймає 2 аргументи та повертає результат ділення 1го аргумента на інший."
      ],
      "metadata": {
        "id": "ORM4PqJQAtDM"
      }
    },
    {
      "cell_type": "code",
      "execution_count": null,
      "metadata": {
        "id": "EuDx-z8M6sLo",
        "colab": {
          "base_uri": "https://localhost:8080/"
        },
        "outputId": "419ff3eb-7962-488b-85b1-82209fe9bec7"
      },
      "outputs": [
        {
          "output_type": "stream",
          "name": "stdout",
          "text": [
            "2.0\n"
          ]
        }
      ],
      "source": [
        "def first_step(arg1, arg2):\n",
        "    division = arg1 / arg2\n",
        "    return division\n",
        "\n",
        "\n",
        "result1_2 = first_step(4, 2)\n",
        "print(result1_2)"
      ]
    },
    {
      "cell_type": "markdown",
      "source": [
        "3. (2б) Викличте вище визначену функцію, де другий аргумент дорівнює 0."
      ],
      "metadata": {
        "id": "5joQGQ-SAyMe"
      }
    },
    {
      "cell_type": "code",
      "source": [
        "#послідовне завдання з передбаченою помилкою - діленням на 0\n",
        "result1_3 = first_step(4, 0)\n",
        "print(result1_3)"
      ],
      "metadata": {
        "id": "V5cBV1LOA3d-",
        "colab": {
          "base_uri": "https://localhost:8080/",
          "height": 292
        },
        "outputId": "ddbe025f-bb17-499a-cdf1-fd19ba753b02"
      },
      "execution_count": null,
      "outputs": [
        {
          "output_type": "error",
          "ename": "ZeroDivisionError",
          "evalue": "division by zero",
          "traceback": [
            "\u001b[0;31m---------------------------------------------------------------------------\u001b[0m",
            "\u001b[0;31mZeroDivisionError\u001b[0m                         Traceback (most recent call last)",
            "\u001b[0;32m<ipython-input-13-5b914809349d>\u001b[0m in \u001b[0;36m<cell line: 1>\u001b[0;34m()\u001b[0m\n\u001b[0;32m----> 1\u001b[0;31m \u001b[0mresult1_3\u001b[0m \u001b[0;34m=\u001b[0m \u001b[0mfirst_step\u001b[0m\u001b[0;34m(\u001b[0m\u001b[0;36m4\u001b[0m\u001b[0;34m,\u001b[0m \u001b[0;36m0\u001b[0m\u001b[0;34m)\u001b[0m\u001b[0;34m\u001b[0m\u001b[0;34m\u001b[0m\u001b[0m\n\u001b[0m\u001b[1;32m      2\u001b[0m \u001b[0mprint\u001b[0m\u001b[0;34m(\u001b[0m\u001b[0mresult1_3\u001b[0m\u001b[0;34m)\u001b[0m\u001b[0;34m\u001b[0m\u001b[0;34m\u001b[0m\u001b[0m\n",
            "\u001b[0;32m<ipython-input-12-3dec41291f10>\u001b[0m in \u001b[0;36mfirst_step\u001b[0;34m(arg1, arg2)\u001b[0m\n\u001b[1;32m      1\u001b[0m \u001b[0;32mdef\u001b[0m \u001b[0mfirst_step\u001b[0m\u001b[0;34m(\u001b[0m\u001b[0marg1\u001b[0m\u001b[0;34m,\u001b[0m \u001b[0marg2\u001b[0m\u001b[0;34m)\u001b[0m\u001b[0;34m:\u001b[0m\u001b[0;34m\u001b[0m\u001b[0;34m\u001b[0m\u001b[0m\n\u001b[0;32m----> 2\u001b[0;31m     \u001b[0mdivision\u001b[0m \u001b[0;34m=\u001b[0m \u001b[0marg1\u001b[0m \u001b[0;34m/\u001b[0m \u001b[0marg2\u001b[0m\u001b[0;34m\u001b[0m\u001b[0;34m\u001b[0m\u001b[0m\n\u001b[0m\u001b[1;32m      3\u001b[0m     \u001b[0;32mreturn\u001b[0m \u001b[0mdivision\u001b[0m\u001b[0;34m\u001b[0m\u001b[0;34m\u001b[0m\u001b[0m\n\u001b[1;32m      4\u001b[0m \u001b[0;34m\u001b[0m\u001b[0m\n\u001b[1;32m      5\u001b[0m \u001b[0;34m\u001b[0m\u001b[0m\n",
            "\u001b[0;31mZeroDivisionError\u001b[0m: division by zero"
          ]
        }
      ]
    },
    {
      "cell_type": "markdown",
      "source": [
        "4. (4б) Перевизначте функцію так, щоби у випадку ділення на 0 функція повертала None, а в решті випадків - результат розрахунків."
      ],
      "metadata": {
        "id": "QyimWgW8A43-"
      }
    },
    {
      "cell_type": "code",
      "source": [
        "def second_step(arg1, arg2):\n",
        "  if arg2 != 0:\n",
        "    division0_1 = arg1 / arg2\n",
        "  else:\n",
        "    division0_1 = None\n",
        "  return division0_1\n",
        "\n",
        "\n",
        "result1_4 = second_step(2, 0)\n",
        "print(result1_4)"
      ],
      "metadata": {
        "id": "7VIODtSjA8Ek",
        "colab": {
          "base_uri": "https://localhost:8080/"
        },
        "outputId": "33510049-feb8-4b38-a2b4-caf6aec149e8"
      },
      "execution_count": null,
      "outputs": [
        {
          "output_type": "stream",
          "name": "stdout",
          "text": [
            "None\n"
          ]
        }
      ]
    },
    {
      "cell_type": "markdown",
      "source": [
        "5. (5б) Визначте функцію, що віднімає одне число від іншого (підказка: це буде 2 аргументи функції). При чому, якщо не визначити, скільки саме має бути віднято від числа, за замовчуванням має відніматися 1. Викличте функцію, передаючи тільки один аргумент."
      ],
      "metadata": {
        "id": "Y8mN0GfkA81l"
      }
    },
    {
      "cell_type": "code",
      "source": [
        "def minus(x5, y5=1):\n",
        "  result5 = x5 - y5\n",
        "  return result5\n",
        "\n",
        "\n",
        "int5 = 5\n",
        "int6 = 7\n",
        "minus5 = minus(int5)\n",
        "\n",
        "print(minus5)\n"
      ],
      "metadata": {
        "id": "vg1kxkdgBA50",
        "colab": {
          "base_uri": "https://localhost:8080/"
        },
        "outputId": "21df823d-a819-4379-bae0-020e4a7253d9"
      },
      "execution_count": null,
      "outputs": [
        {
          "output_type": "stream",
          "name": "stdout",
          "text": [
            "4\n"
          ]
        }
      ]
    },
    {
      "cell_type": "markdown",
      "source": [
        "6. (7б) Визначте функцію, яка приймає iterable (ітерабельний обʼєкт, напр. список), що складається з 7ми рядкових значень - назв погодних умов (напр. \"sunny\") за кожен день у тижні. Повертає функція словник, де ключами є рядки з погодними умовами, а значеннями - кількість разів, скільки дана погода була протягом тижня (напр. {'sunny': 1, ...}). Викличте цю функцію та виведіть результат її роботи на екран."
      ],
      "metadata": {
        "id": "D3mwQGNOBBs4"
      }
    },
    {
      "cell_type": "code",
      "source": [
        "def weather_condition_count(daily_weather):\n",
        "  weather_count = {}\n",
        "\n",
        "  for condition in daily_weather:\n",
        "    if condition in weather_count:\n",
        "      weather_count[condition] += 1\n",
        "    else:\n",
        "        weather_count[condition] = 1\n",
        "\n",
        "  return weather_count\n",
        "\n",
        "\n",
        "weather_list = [\"sunny\", \"rainy\", \"sunny\", \"cloudy\", \"rainy\", \"sunny\", \"cloudy\" ]\n",
        "\n",
        "x6 = weather_condition_count(weather_list)\n",
        "print(x6)"
      ],
      "metadata": {
        "id": "OsWm-hKcBFyn",
        "colab": {
          "base_uri": "https://localhost:8080/"
        },
        "outputId": "a2b5e491-7e82-44d1-8724-37f835f75a74"
      },
      "execution_count": null,
      "outputs": [
        {
          "output_type": "stream",
          "name": "stdout",
          "text": [
            "{'sunny': 3, 'rainy': 2, 'cloudy': 2}\n"
          ]
        }
      ]
    },
    {
      "cell_type": "markdown",
      "source": [
        "7. (15б) Напишіть програму, яка б шукала необхідне число у впорядкованому списку цілочислених значень, де\n",
        "число має вводитись з консолі.\n",
        "власне алгоритм пошуку винесений в окрему функцію, яка повертає булеве значення (знайдено число - True, не знайдено - False).\n",
        "в залежності від результату функції, виведіть на екран повідомлення про успішний або ж неуспішний пошук.\n",
        "Зауваження: використовувати оператор in заборонено."
      ],
      "metadata": {
        "id": "RMiCcdOsBKQT"
      }
    },
    {
      "cell_type": "code",
      "source": [
        "def number_search(value, int_list):\n",
        "  result = True\n",
        "  if int_list.count(value)==0:\n",
        "    result = False\n",
        "  return result\n",
        "\n",
        "\n",
        "value = int(input(\"Please enter your value: \"))\n",
        "int_list = [1, 2, 3, 4, 5]\n",
        "\n",
        "int_list2 = [22, 33, 44, 23]\n",
        "\n",
        "result = number_search(value, int_list2)\n",
        "print(result)\n",
        "\n",
        "\n",
        "\n"
      ],
      "metadata": {
        "id": "UNCZg65OBOy-",
        "colab": {
          "base_uri": "https://localhost:8080/"
        },
        "outputId": "104e9b9f-aaa4-4cb0-e3d4-51f2a04fe6e0"
      },
      "execution_count": null,
      "outputs": [
        {
          "output_type": "stream",
          "name": "stdout",
          "text": [
            "Please enter your value: 1\n",
            "False\n"
          ]
        }
      ]
    },
    {
      "cell_type": "markdown",
      "source": [
        "# II. Lambda functions."
      ],
      "metadata": {
        "id": "Ae1n_OvLBTsy"
      }
    },
    {
      "cell_type": "markdown",
      "source": [
        "8. (4б) В яких випадках варто використовувати лямбда-функції?"
      ],
      "metadata": {
        "id": "xaD_wSlaCWen"
      }
    },
    {
      "cell_type": "markdown",
      "source": [
        "Коли потрібно стоврити функцію, яку ми будемо використовувати один раз і в одному рядку.\n",
        "Функція лямбда є анонімною функцією, тому її не можна викликати у новий рядок"
      ],
      "metadata": {
        "id": "42MB6OoLCakR"
      }
    },
    {
      "cell_type": "markdown",
      "source": [
        "9. (9б) Визначте список з рядками. Після цього визначте анонімну функцію для отримання першого символу у верхньому регістрі для кожного рядка списку.\n",
        "Підказка: використовуйте анонімну функцію в якості агрумента до вбудованої ф-ції, яка створена для застосування функцій над iterable обʼєктами. Результат виведіть на екран у вигляді кортежу."
      ],
      "metadata": {
        "id": "USrzrk7GCedk"
      }
    },
    {
      "cell_type": "code",
      "source": [
        "list_w_str = ['vov', 'ann', 'mak', 'log']\n",
        "tuple(map(lambda x: x[:1].upper(), list_w_str))"
      ],
      "metadata": {
        "id": "M8QWUsMlCjWH",
        "colab": {
          "base_uri": "https://localhost:8080/"
        },
        "outputId": "645a6f0b-0f19-44bc-d54d-46971fc987b4"
      },
      "execution_count": null,
      "outputs": [
        {
          "output_type": "execute_result",
          "data": {
            "text/plain": [
              "('V', 'A', 'M', 'L')"
            ]
          },
          "metadata": {},
          "execution_count": 32
        }
      ]
    },
    {
      "cell_type": "markdown",
      "source": [
        "10. (10б) Визначте список з числовими значеннями (і цілими, і з рухомою комою). а) Відфільтруйте всі числа, які діляться націло на 3 за допомогою вбудованої функції та анонімної функції в якості аргумента). Збережіть результат у змінній, не приводяти явно до будь-якого типу. б) Використовуючи результат на кроці 10.а у якості аргументу, та за допомогою лямбда-функції в якості іншого аргументу до вбудованої функції, додайте до кожного елементу число 1 та опісля зведіть у квадрат. Остаточний результат приведіть явно до списку та виведіть на екран."
      ],
      "metadata": {
        "id": "9fyUhXOoCtGp"
      }
    },
    {
      "cell_type": "code",
      "source": [
        "list_int_float = [2, 3, 6, 6.09, 9, 11, 12, 12.06, 14, 15, 18, 18.06, 20, 23, 27]\n",
        "\n",
        "#завдання а\n",
        "\n",
        "#за допомогою анонімної функції\n",
        "filtered_int_float2 = filter(lambda i: (i%3 == 0), list_int_float)\n",
        "\n",
        "print(filtered_int_float2)\n",
        "\n",
        "#за допомогою вбудованої функції\n",
        "\n",
        "def func_filter (arg1):\n",
        "  newlist = []\n",
        "  for i in arg1:\n",
        "    if i%3 == 0:\n",
        "      newlist.append(i)\n",
        "  return newlist\n",
        "\n",
        "new_list_3 = func_filter(list_int_float)\n",
        "print(new_list_3)\n",
        "\n",
        "#завдання б\n",
        "\n",
        "filtered_int_float3 = map(lambda i: (i + 1) ** 2, filtered_int_float2)\n",
        "print(list(filtered_int_float3))\n"
      ],
      "metadata": {
        "id": "exEx2_okCsql",
        "colab": {
          "base_uri": "https://localhost:8080/"
        },
        "outputId": "a398a8d3-451f-4fc0-fe5a-f64086fb846e"
      },
      "execution_count": 22,
      "outputs": [
        {
          "output_type": "stream",
          "name": "stdout",
          "text": [
            "<filter object at 0x7f2975a7c400>\n",
            "[3, 6, 9, 12, 15, 18, 27]\n",
            "[16, 49, 100, 169, 256, 361, 784]\n"
          ]
        }
      ]
    },
    {
      "cell_type": "markdown",
      "source": [
        "# III. Decorators."
      ],
      "metadata": {
        "id": "o_x8cG_WC7jp"
      }
    },
    {
      "cell_type": "markdown",
      "source": [
        "11. (11б) Визначте декоратор, який би виводив у консоль повідомлення про початок роботи і назву функції (напр. my_function._ _ name _ _), а після відпрацювання функції - повідомлення про закінчення роботи і назву функції, що задекорована."
      ],
      "metadata": {
        "id": "mhxS4-mfC8LQ"
      }
    },
    {
      "cell_type": "code",
      "source": [
        "def decorator(func2):\n",
        "  def wrapper(*args, **kwargs):\n",
        "    print(\"Початок роботи функції\", func2.__name__)\n",
        "    result = func2(*args, **kwargs)\n",
        "    print(result)\n",
        "    print(\"Кінець роботи функції\", func2.__name__)\n",
        "  return wrapper\n",
        "\n",
        "@decorator\n",
        "def multiply_squared(x, y):\n",
        "  result = (x*y)**2\n",
        "  return result\n",
        "\n",
        "multiply_squared(3, 3)\n",
        "\n",
        "\n",
        "\n",
        "\n",
        "\n"
      ],
      "metadata": {
        "id": "srd1ygWjDGhO",
        "colab": {
          "base_uri": "https://localhost:8080/"
        },
        "outputId": "b2d47bc1-bcfe-4a9a-efb8-b3ef19416327"
      },
      "execution_count": null,
      "outputs": [
        {
          "output_type": "stream",
          "name": "stdout",
          "text": [
            "Початок роботи функції multiply_squared\n",
            "81\n",
            "Кінець роботи функції multiply_squared\n"
          ]
        }
      ]
    },
    {
      "cell_type": "markdown",
      "source": [
        "12. (4б) Задекоруйте двома різними способами функції з завдання 4 та 5 декоратором із завдання 11. (**УВАГА**: не декоруйте функції двічі!)."
      ],
      "metadata": {
        "id": "rxGZwVBiDph3"
      }
    },
    {
      "cell_type": "code",
      "source": [
        "def decorator(func):\n",
        "  def wrapper(*args, **kwargs):\n",
        "    print(\"Початок роботи функції\", func.__name__)\n",
        "    result = func(*args, **kwargs)\n",
        "    print(result)\n",
        "    print(\"Кінець роботи функції\", func.__name__)\n",
        "  return wrapper\n",
        "\n",
        "#завдання 4\n",
        "@decorator\n",
        "def second_step(arg1, arg2):\n",
        "  if arg2 != 0:\n",
        "    division0_1 = arg1 / arg2\n",
        "  else:\n",
        "    division0_1 = None\n",
        "  return division0_1\n",
        "\n",
        "\n",
        "\n",
        "#завдання 5\n",
        "@decorator\n",
        "def minus(x5, y5=1):\n",
        "  result5 = x5 - y5\n",
        "  return result5\n",
        "\n",
        "\n",
        "\n",
        "\n",
        "\n",
        "\n",
        "\n"
      ],
      "metadata": {
        "id": "06lj7eq_DwZe"
      },
      "execution_count": null,
      "outputs": []
    },
    {
      "cell_type": "markdown",
      "source": [
        "13. (2б) Викличте одну з задекорованих функцій і виведіть її результат на екран."
      ],
      "metadata": {
        "id": "P0ep1urBDzf-"
      }
    },
    {
      "cell_type": "code",
      "source": [
        "second_step(366, 2)\n",
        "print('-'*30)\n",
        "minus(10,5)\n"
      ],
      "metadata": {
        "id": "1QvTw0ctD0S3",
        "colab": {
          "base_uri": "https://localhost:8080/"
        },
        "outputId": "7bd9f084-dcbe-41cb-a663-7e93782ea297"
      },
      "execution_count": null,
      "outputs": [
        {
          "output_type": "stream",
          "name": "stdout",
          "text": [
            "Початок роботи функції second_step\n",
            "183.0\n",
            "Кінець роботи функції second_step\n",
            "------------------------------\n",
            "Початок роботи функції minus\n",
            "5\n",
            "Кінець роботи функції minus\n"
          ]
        }
      ]
    },
    {
      "cell_type": "markdown",
      "source": [
        "# IV. Recursion."
      ],
      "metadata": {
        "id": "poECCpuoD2S9"
      }
    },
    {
      "cell_type": "markdown",
      "source": [
        "14. (4б) Назвіть дві частини функції, які є обовʼязковими для того, щоб називати її рекурсивною."
      ],
      "metadata": {
        "id": "DqkURfdsD7MY"
      }
    },
    {
      "cell_type": "markdown",
      "source": [
        "Наявність двох сценаріїв — умова зупину (ствандартний випадок) і рекурсивний випадок . Умова зупину: умова за якої функція закінчує викликати саму себе. Рекурсивний випадок,який наближає програму до умрови зупину: у ньому виконується операція для прогону циклу до базового і так допоки базова умова не буде задоволена."
      ],
      "metadata": {
        "id": "HYW6ttIeIQIU"
      }
    },
    {
      "cell_type": "markdown",
      "source": [
        "15. (15б) Визначте функцію, яка рекурсивно реалізовує пошук числа у послідовності Фібоначчі за її індексом (нумерація починається з нуля). Наприклад, потрібно знайти перше число у послідовності, тоді функція прийматиме 0 у якості аргумента і повертатиме 1, якщо ж знаходити третє число (індекс 2) послідовності, то функція повертатиме 2, якщо ж знаходити десяте число (індекс 9), то функція повертатиме 55."
      ],
      "metadata": {
        "id": "WYVt20UmEA35"
      }
    },
    {
      "cell_type": "code",
      "source": [
        "def recursion(index):\n",
        "  if index == 1:\n",
        "    return 0\n",
        "  elif index == 2:\n",
        "    return 1\n",
        "  else:\n",
        "    return recursion(index-1) + recursion(index-2)\n",
        "\n",
        "recursion(11)\n",
        "\n",
        "\n",
        "# fib_list =[0, 1, 1, 2, 3, 5, 8, 13, 21, 34, 55, 89, 144, 233, 377, 610]\n",
        "\n",
        "\n",
        "\n",
        "\n",
        "\n",
        "\n",
        "\n",
        "\n",
        "\n",
        "\n"
      ],
      "metadata": {
        "id": "xIMhp05AIpV_",
        "colab": {
          "base_uri": "https://localhost:8080/"
        },
        "outputId": "a18ec47a-6e7f-47b0-8e57-bd25bff04f17"
      },
      "execution_count": 11,
      "outputs": [
        {
          "output_type": "execute_result",
          "data": {
            "text/plain": [
              "55"
            ]
          },
          "metadata": {},
          "execution_count": 11
        }
      ]
    },
    {
      "cell_type": "markdown",
      "source": [
        "# Вітаю! Ви велика(ий) молодець, що впоралась(вся). Похваліть себе та побалуйте чимось приємним. Я Вами пишаюся."
      ],
      "metadata": {
        "id": "ytXC8n_4Ip0W"
      }
    }
  ]
}